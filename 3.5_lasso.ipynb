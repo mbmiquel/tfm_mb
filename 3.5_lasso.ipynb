{
 "cells": [
  {
   "cell_type": "code",
   "execution_count": 1,
   "id": "2df8c2ae-be42-4ed9-a2f9-47bb914f6f66",
   "metadata": {},
   "outputs": [],
   "source": [
    "from read_data import read_enhanced_microscore_dataset\n",
    "import pandas as pd\n",
    "from sklearn.preprocessing import StandardScaler, LabelEncoder, OneHotEncoder\n",
    "from plots import first_plot, second_plot, third_plot, forth_plot, plot_performance, fith_plot\n",
    "import numpy as np\n",
    "from sklearn.model_selection import KFold\n",
    "from sklearn.metrics import mean_absolute_error, mean_squared_error, mean_absolute_percentage_error\n",
    "from sklearn.preprocessing import StandardScaler\n",
    "from sklearn.model_selection import train_test_split, GridSearchCV\n",
    "from sklearn.linear_model import Lasso\n",
    "from sklearn.metrics import make_scorer"
   ]
  },
  {
   "cell_type": "code",
   "execution_count": 2,
   "id": "b11a955f-f406-4797-b25d-d15e7d565f86",
   "metadata": {},
   "outputs": [],
   "source": [
    "df = read_enhanced_microscore_dataset()"
   ]
  },
  {
   "cell_type": "code",
   "execution_count": 3,
   "id": "a1b78c70-ae31-4708-af2d-8587b4e950ce",
   "metadata": {},
   "outputs": [],
   "source": [
    "df_base = df[[\n",
    "    \"Habitaciones\",\n",
    "    \"Aseos\",\n",
    "    \"Terraza\",\n",
    "    \"Piscina\",\n",
    "    \"Garaje\",\n",
    "    \"Precio\",\n",
    "    \"Metros\",\n",
    "    # \"CodigoPostal\",\n",
    "    \"Latitud\",\n",
    "    \"Longitud\",\n",
    "    'Caracteristicas'\n",
    "]]"
   ]
  },
  {
   "cell_type": "code",
   "execution_count": 4,
   "id": "172dc519-5ed0-4ad9-ac55-3c6f93e15acf",
   "metadata": {},
   "outputs": [],
   "source": [
    "df_microscore = df[[\n",
    "    \"Habitaciones\",\n",
    "    \"Aseos\",\n",
    "    \"Terraza\",\n",
    "    \"Piscina\",\n",
    "    \"Garaje\",\n",
    "    \"Precio\",\n",
    "    \"Metros\",\n",
    "    # \"CodigoPostal\",\n",
    "    \"Latitud\",\n",
    "    \"Longitud\",\n",
    "    \"RentaBrutaHogar\",\n",
    "    \"RentaBrutaPersona\",\n",
    "    \"poblacion_2023\",\n",
    "    \"%_servicios\",\n",
    "    \"densidad_inm_m2\",\n",
    "    \"%_agricultura\",\n",
    "    \"%_industria\",\n",
    "    \"%_construccion\",\n",
    "    'Caracteristicas',\n",
    "    'University_Distance',\n",
    "    'School_Distance', 'Kindergarten_Distance', 'City Center_Distance',\n",
    "       'Supermarket_Distance', 'Bakery_Distance', 'Hospital_Distance',\n",
    "       'Pharmacy_Distance', 'Restaurant_Distance', 'Café_Distance',\n",
    "       'Park_Distance', 'Gym_Distance', 'Movie Theater_Distance',\n",
    "       'Theater_Distance', 'Shopping Mall_Distance', 'Bus Stop_Distance',\n",
    "       'Metro Station_Distance', 'Score'\n",
    "]]"
   ]
  },
  {
   "cell_type": "code",
   "execution_count": 5,
   "id": "4e94a641-060b-4e99-a1b6-0526b5ef6e89",
   "metadata": {},
   "outputs": [],
   "source": [
    "def prepare_data(df):\n",
    "    categorical_cols = ['Caracteristicas']\n",
    "    df = pd.get_dummies(df, columns=categorical_cols)\n",
    "    df = df.fillna(-1)\n",
    "    return df"
   ]
  },
  {
   "cell_type": "code",
   "execution_count": 6,
   "id": "8e8e3f9e-8666-4946-93a3-59c5c5f0e48b",
   "metadata": {},
   "outputs": [],
   "source": [
    "df_base =prepare_data(df_base)\n",
    "df_microscore =prepare_data(df_microscore)"
   ]
  },
  {
   "cell_type": "code",
   "execution_count": null,
   "id": "f45055d1-48a2-4263-88a9-e645f5ff0d4a",
   "metadata": {},
   "outputs": [],
   "source": []
  },
  {
   "cell_type": "code",
   "execution_count": 7,
   "id": "fc687638-1663-4c88-801f-296c12eefbcd",
   "metadata": {},
   "outputs": [],
   "source": [
    "def grid_search(df):\n",
    "    X = df.drop(columns=['Precio'])\n",
    "    y = df['Precio']\n",
    "    \n",
    "    # Split dataset \n",
    "    X_train, X_test, y_train, y_test = train_test_split(X, y, test_size=0.2, random_state=56)\n",
    "    \n",
    "    # Escalado\n",
    "    scaler = StandardScaler()\n",
    "    X_train_scaled = scaler.fit_transform(X_train)\n",
    "    X_test_scaled = scaler.transform(X_test)\n",
    "    \n",
    "    # Parametros gridsearch\n",
    "    param_grid = {\n",
    "        'alpha': [0.01, 0.1, 0.5, 1.0, 5.0, 10.0] \n",
    "    }\n",
    "    \n",
    "    lasso = Lasso(random_state=56)\n",
    "    \n",
    "    scorer = make_scorer(mean_absolute_error, greater_is_better=False)\n",
    "    \n",
    "    # GridSearchCV\n",
    "    grid_search = GridSearchCV(\n",
    "        estimator=lasso,\n",
    "        param_grid=param_grid,\n",
    "        scoring=scorer,\n",
    "        cv=5,  \n",
    "        n_jobs=-1,  \n",
    "        verbose=1\n",
    "    )\n",
    "    \n",
    "    grid_search.fit(X_train_scaled, y_train)\n",
    "    \n",
    "    best_alpha = grid_search.best_params_['alpha']\n",
    "    best_model = grid_search.best_estimator_\n",
    "    \n",
    "    y_pred = best_model.predict(X_test_scaled)\n",
    "    \n",
    "    mae = mean_absolute_error(y_test, y_pred)\n",
    "    print(f\"Best Alpha: {best_alpha}\")\n",
    "    print(f\"Mean Absolute Error on Test Set: {mae}\")\n"
   ]
  },
  {
   "cell_type": "code",
   "execution_count": 8,
   "id": "2ff70051-750f-41e3-b0d4-50a4d7e828f4",
   "metadata": {},
   "outputs": [
    {
     "name": "stdout",
     "output_type": "stream",
     "text": [
      "Fitting 5 folds for each of 6 candidates, totalling 30 fits\n",
      "Best Alpha: 10.0\n",
      "Mean Absolute Error on Test Set: 108546.29721134841\n"
     ]
    }
   ],
   "source": [
    "grid_search(df_base)"
   ]
  },
  {
   "cell_type": "code",
   "execution_count": 10,
   "id": "f0ad2de1-ac54-48e8-b08b-68634ba0d14e",
   "metadata": {},
   "outputs": [
    {
     "name": "stdout",
     "output_type": "stream",
     "text": [
      "Fitting 5 folds for each of 6 candidates, totalling 30 fits\n",
      "Best Alpha: 10.0\n",
      "Mean Absolute Error on Test Set: 91157.6101358151\n",
      "\n",
      "Lasso Coefficients:\n",
      "                         Feature   Coefficient\n",
      "1                          Aseos  93517.812286\n",
      "5                         Metros  87063.245523\n",
      "9              RentaBrutaPersona  62074.061302\n",
      "7                       Longitud  43493.862856\n",
      "12               densidad_inm_m2  35322.439747\n",
      "3                        Piscina  29343.909760\n",
      "11                   %_servicios  27517.727679\n",
      "29              Theater_Distance  11636.867756\n",
      "8                RentaBrutaHogar  10086.029650\n",
      "4                         Garaje   8460.190896\n",
      "17               School_Distance   7492.532652\n",
      "2                        Terraza   6995.944123\n",
      "16           University_Distance   6396.545911\n",
      "10                poblacion_2023   6040.242273\n",
      "15                %_construccion   5930.978851\n",
      "13                 %_agricultura   5788.805568\n",
      "14                   %_industria   5007.474274\n",
      "30        Shopping Mall_Distance   4432.021773\n",
      "18         Kindergarten_Distance   3754.144748\n",
      "32        Metro Station_Distance   2673.690382\n",
      "33                         Score    790.273120\n",
      "35  Caracteristicas_CountryHouse    785.075639\n",
      "22             Hospital_Distance    749.837886\n",
      "20          Supermarket_Distance     31.969422\n",
      "34     Caracteristicas_Apartment      0.000000\n",
      "27                  Gym_Distance     -0.000000\n",
      "26                 Park_Distance   -620.961684\n",
      "36         Caracteristicas_House  -1217.708184\n",
      "23             Pharmacy_Distance  -1514.565907\n",
      "31             Bus Stop_Distance  -2036.179408\n",
      "21               Bakery_Distance  -2955.771926\n",
      "0                   Habitaciones  -3354.739183\n",
      "19          City Center_Distance  -3355.679000\n",
      "24           Restaurant_Distance  -6857.275769\n",
      "25                 Café_Distance  -7217.069642\n",
      "6                        Latitud -12643.602720\n",
      "28        Movie Theater_Distance -12873.491691\n"
     ]
    },
    {
     "name": "stderr",
     "output_type": "stream",
     "text": [
      "C:\\Users\\emebe\\AppData\\Local\\Programs\\Python\\Python39\\lib\\site-packages\\sklearn\\linear_model\\_coordinate_descent.py:697: ConvergenceWarning: Objective did not converge. You might want to increase the number of iterations, check the scale of the features or consider increasing regularisation. Duality gap: 1.112e+13, tolerance: 5.337e+11\n",
      "  model = cd_fast.enet_coordinate_descent(\n"
     ]
    }
   ],
   "source": [
    "grid_search(df_microscore)"
   ]
  },
  {
   "cell_type": "code",
   "execution_count": null,
   "id": "ee69351b-7c16-43cb-9029-ba6eac4397a9",
   "metadata": {},
   "outputs": [],
   "source": []
  },
  {
   "cell_type": "code",
   "execution_count": null,
   "id": "14e99bee-da0b-4496-a4a3-f4b3c9aa3008",
   "metadata": {},
   "outputs": [],
   "source": []
  },
  {
   "cell_type": "code",
   "execution_count": 11,
   "id": "708226fd-afcc-466f-bb33-a1bbf2267b39",
   "metadata": {},
   "outputs": [],
   "source": [
    "def lasso_kfold(df, alpha):\n",
    "    X = df.drop(columns=[\"Precio\"])  \n",
    "    y = df[\"Precio\"]  \n",
    "    \n",
    "    # KFold\n",
    "    kf = KFold(n_splits=5, shuffle=True, random_state=56)\n",
    "    \n",
    "    mae_list = []\n",
    "    rmse_list = []\n",
    "    mape_list = []\n",
    "    \n",
    "    # 5-fold cross-validation\n",
    "    for train_index, test_index in kf.split(X):\n",
    "        X_train, X_test = X.iloc[train_index], X.iloc[test_index]\n",
    "        y_train, y_test = y.iloc[train_index], y.iloc[test_index]\n",
    "        \n",
    "        # Escalado\n",
    "        scaler = StandardScaler()\n",
    "        X_train_scaled = scaler.fit_transform(X_train)\n",
    "        X_test_scaled = scaler.transform(X_test)\n",
    "        \n",
    "        # Entrenamiento Lasso Regression model\n",
    "        lasso_model = Lasso(alpha=alpha, random_state=56)\n",
    "        lasso_model.fit(X_train_scaled, y_train)\n",
    "        \n",
    "        # Prediccion\n",
    "        y_pred = lasso_model.predict(X_test_scaled)\n",
    "        \n",
    "        # Metricas\n",
    "        mae = mean_absolute_error(y_test, y_pred)\n",
    "        rmse = np.sqrt(mean_squared_error(y_test, y_pred))\n",
    "        mape = mean_absolute_percentage_error(y_test, y_pred)\n",
    "        \n",
    "        mae_list.append(mae)\n",
    "        rmse_list.append(rmse)\n",
    "        mape_list.append(mape)\n",
    "        \n",
    "        print(f\"Fold MAE: {mae:.2f}, RMSE: {rmse:.2f}, MAPE: {mape:.2%}\")\n",
    "    \n",
    "    print(\"\\n--- Metricas Cross-Validation ---\")\n",
    "    print(f\"Average MAE: {np.mean(mae_list):.2f}\")\n",
    "    print(f\"Average RMSE: {np.mean(rmse_list):.2f}\")\n",
    "    print(f\"Average MAPE: {np.mean(mape_list):.2%}\")\n",
    "    \n",
    "    # Entrenamiento con todo el dataset\n",
    "    scaler = StandardScaler()\n",
    "    X_scaled = scaler.fit_transform(X)\n",
    "    lasso_model = Lasso(alpha=alpha, random_state=42)\n",
    "    lasso_model.fit(X_scaled, y)\n",
    "    \n",
    "    # Coeficientes segun su importancia\n",
    "    lasso_coefficients = pd.DataFrame({\n",
    "        'Feature': X.columns,\n",
    "        'Coefficient': lasso_model.coef_\n",
    "    }).sort_values(by='Coefficient', ascending=False)\n",
    "    \n",
    "    print(\"\\nFeature Coefficients:\")\n",
    "    print(lasso_coefficients)\n",
    "\n",
    "    return y_test, y_pred\n"
   ]
  },
  {
   "cell_type": "code",
   "execution_count": 12,
   "id": "dca5e92d-7b13-4c3a-aad2-00b1f1135e26",
   "metadata": {},
   "outputs": [
    {
     "name": "stdout",
     "output_type": "stream",
     "text": [
      "Fold MAE: 108546.30, RMSE: 204368.37, MAPE: 58.95%\n",
      "Fold MAE: 109937.80, RMSE: 210859.57, MAPE: 58.42%\n",
      "Fold MAE: 110671.89, RMSE: 230804.19, MAPE: 57.15%\n",
      "Fold MAE: 107447.80, RMSE: 197024.80, MAPE: 58.13%\n",
      "Fold MAE: 109868.09, RMSE: 205424.23, MAPE: 58.47%\n",
      "\n",
      "--- Cross-Validation Metrics ---\n",
      "Average MAE: 109294.38\n",
      "Average RMSE: 209696.23\n",
      "Average MAPE: 58.22%\n",
      "\n",
      "Feature Coefficients:\n",
      "                         Feature    Coefficient\n",
      "1                          Aseos  115851.048974\n",
      "7                       Longitud   85018.305575\n",
      "5                         Metros   83331.389188\n",
      "3                        Piscina   26146.843709\n",
      "8      Caracteristicas_Apartment   25233.625626\n",
      "4                         Garaje    8680.945008\n",
      "0                   Habitaciones    3060.104825\n",
      "2                        Terraza    2506.810950\n",
      "10         Caracteristicas_House      -0.000000\n",
      "9   Caracteristicas_CountryHouse   -1370.650590\n",
      "6                        Latitud  -27128.091359\n"
     ]
    }
   ],
   "source": [
    "y_test_base, y_pred_base = lasso_kfold(df_base, 10)"
   ]
  },
  {
   "cell_type": "code",
   "execution_count": 13,
   "id": "8c09060d-74de-4d6c-9bb6-bf30b1892557",
   "metadata": {},
   "outputs": [
    {
     "name": "stderr",
     "output_type": "stream",
     "text": [
      "C:\\Users\\emebe\\AppData\\Local\\Programs\\Python\\Python39\\lib\\site-packages\\sklearn\\linear_model\\_coordinate_descent.py:697: ConvergenceWarning: Objective did not converge. You might want to increase the number of iterations, check the scale of the features or consider increasing regularisation. Duality gap: 4.326e+12, tolerance: 4.445e+11\n",
      "  model = cd_fast.enet_coordinate_descent(\n"
     ]
    },
    {
     "name": "stdout",
     "output_type": "stream",
     "text": [
      "Fold MAE: 93292.23, RMSE: 181999.76, MAPE: 53.57%\n"
     ]
    },
    {
     "name": "stderr",
     "output_type": "stream",
     "text": [
      "C:\\Users\\emebe\\AppData\\Local\\Programs\\Python\\Python39\\lib\\site-packages\\sklearn\\linear_model\\_coordinate_descent.py:697: ConvergenceWarning: Objective did not converge. You might want to increase the number of iterations, check the scale of the features or consider increasing regularisation. Duality gap: 6.144e+12, tolerance: 4.425e+11\n",
      "  model = cd_fast.enet_coordinate_descent(\n"
     ]
    },
    {
     "name": "stdout",
     "output_type": "stream",
     "text": [
      "Fold MAE: 94800.06, RMSE: 188517.17, MAPE: 54.18%\n"
     ]
    },
    {
     "name": "stderr",
     "output_type": "stream",
     "text": [
      "C:\\Users\\emebe\\AppData\\Local\\Programs\\Python\\Python39\\lib\\site-packages\\sklearn\\linear_model\\_coordinate_descent.py:697: ConvergenceWarning: Objective did not converge. You might want to increase the number of iterations, check the scale of the features or consider increasing regularisation. Duality gap: 3.075e+12, tolerance: 4.204e+11\n",
      "  model = cd_fast.enet_coordinate_descent(\n"
     ]
    },
    {
     "name": "stdout",
     "output_type": "stream",
     "text": [
      "Fold MAE: 94189.97, RMSE: 209810.30, MAPE: 51.52%\n"
     ]
    },
    {
     "name": "stderr",
     "output_type": "stream",
     "text": [
      "C:\\Users\\emebe\\AppData\\Local\\Programs\\Python\\Python39\\lib\\site-packages\\sklearn\\linear_model\\_coordinate_descent.py:697: ConvergenceWarning: Objective did not converge. You might want to increase the number of iterations, check the scale of the features or consider increasing regularisation. Duality gap: 1.806e+12, tolerance: 4.504e+11\n",
      "  model = cd_fast.enet_coordinate_descent(\n"
     ]
    },
    {
     "name": "stdout",
     "output_type": "stream",
     "text": [
      "Fold MAE: 91224.83, RMSE: 173288.68, MAPE: 52.04%\n"
     ]
    },
    {
     "name": "stderr",
     "output_type": "stream",
     "text": [
      "C:\\Users\\emebe\\AppData\\Local\\Programs\\Python\\Python39\\lib\\site-packages\\sklearn\\linear_model\\_coordinate_descent.py:697: ConvergenceWarning: Objective did not converge. You might want to increase the number of iterations, check the scale of the features or consider increasing regularisation. Duality gap: 4.012e+12, tolerance: 4.460e+11\n",
      "  model = cd_fast.enet_coordinate_descent(\n"
     ]
    },
    {
     "name": "stdout",
     "output_type": "stream",
     "text": [
      "Fold MAE: 94188.83, RMSE: 183315.68, MAPE: 53.69%\n",
      "\n",
      "--- Cross-Validation Metrics ---\n",
      "Average MAE: 93539.18\n",
      "Average RMSE: 187386.32\n",
      "Average MAPE: 53.00%\n",
      "\n",
      "Feature Coefficients:\n",
      "                         Feature   Coefficient\n",
      "1                          Aseos  97185.893498\n",
      "5                         Metros  83801.208276\n",
      "9              RentaBrutaPersona  57546.763653\n",
      "7                       Longitud  42302.630213\n",
      "12               densidad_inm_m2  34908.158640\n",
      "11                   %_servicios  32906.345651\n",
      "3                        Piscina  30379.211667\n",
      "8                RentaBrutaHogar  13434.872070\n",
      "29              Theater_Distance  12393.392387\n",
      "4                         Garaje   9001.204056\n",
      "14                   %_industria   8969.781924\n",
      "17               School_Distance   8045.209771\n",
      "16           University_Distance   7974.285434\n",
      "15                %_construccion   7324.495942\n",
      "2                        Terraza   7055.896962\n",
      "13                 %_agricultura   6283.594756\n",
      "30        Shopping Mall_Distance   5967.974123\n",
      "10                poblacion_2023   5875.673425\n",
      "18         Kindergarten_Distance   4716.553870\n",
      "33                         Score   4381.774833\n",
      "32        Metro Station_Distance   2885.328076\n",
      "20          Supermarket_Distance   2752.471106\n",
      "35  Caracteristicas_CountryHouse   1405.303857\n",
      "27                  Gym_Distance   1388.337591\n",
      "22             Hospital_Distance    953.507010\n",
      "36         Caracteristicas_House      0.000000\n",
      "34     Caracteristicas_Apartment   -586.892223\n",
      "26                 Park_Distance   -942.238266\n",
      "0                   Habitaciones  -1378.930225\n",
      "23             Pharmacy_Distance  -1670.755335\n",
      "21               Bakery_Distance  -2305.613096\n",
      "31             Bus Stop_Distance  -3117.369817\n",
      "19          City Center_Distance  -4060.664922\n",
      "24           Restaurant_Distance  -7059.879744\n",
      "25                 Café_Distance  -9232.441852\n",
      "6                        Latitud -11465.368576\n",
      "28        Movie Theater_Distance -13346.550015\n"
     ]
    },
    {
     "name": "stderr",
     "output_type": "stream",
     "text": [
      "C:\\Users\\emebe\\AppData\\Local\\Programs\\Python\\Python39\\lib\\site-packages\\sklearn\\linear_model\\_coordinate_descent.py:697: ConvergenceWarning: Objective did not converge. You might want to increase the number of iterations, check the scale of the features or consider increasing regularisation. Duality gap: 4.715e+12, tolerance: 5.510e+11\n",
      "  model = cd_fast.enet_coordinate_descent(\n"
     ]
    }
   ],
   "source": [
    "y_test_micro, y_pred_micro = lasso_kfold(df_microscore, 10)"
   ]
  },
  {
   "cell_type": "code",
   "execution_count": 14,
   "id": "968d9204-c4b9-4241-8f8e-e06b33f8189d",
   "metadata": {},
   "outputs": [
    {
     "name": "stderr",
     "output_type": "stream",
     "text": [
      "C:\\Users\\emebe\\Documents\\GitHub\\tfm_cleaned\\plots.py:156: FutureWarning: The default of observed=False is deprecated and will be changed to True in a future version of pandas. Pass observed=False to retain current behavior or observed=True to adopt the future default and silence this warning.\n",
      "  result_blue = df_plot_base.groupby(\"log_bin\")[\"%error\"].mean().reset_index()\n",
      "C:\\Users\\emebe\\Documents\\GitHub\\tfm_cleaned\\plots.py:163: FutureWarning: The default of observed=False is deprecated and will be changed to True in a future version of pandas. Pass observed=False to retain current behavior or observed=True to adopt the future default and silence this warning.\n",
      "  result_red = df_plot__micro.groupby(\"log_bin\")[\"%error\"].mean().reset_index()\n"
     ]
    },
    {
     "data": {
      "image/png": "[encoded data removed]",
      "text/plain": [
       "<Figure size 800x600 with 1 Axes>"
      ]
     },
     "metadata": {},
     "output_type": "display_data"
    }
   ],
   "source": [
    "fith_plot(y_test_base, y_pred_base, y_test_micro, y_pred_micro)"
   ]
  },
  {
   "cell_type": "code",
   "execution_count": null,
   "id": "9bbc73d4-d97e-45b9-916d-aea4d25e47e8",
   "metadata": {},
   "outputs": [],
   "source": []
  }
 ],
 "metadata": {
  "kernelspec": {
   "display_name": "Python 3 (ipykernel)",
   "language": "python",
   "name": "python3"
  },
  "language_info": {
   "codemirror_mode": {
    "name": "ipython",
    "version": 3
   },
   "file_extension": ".py",
   "mimetype": "text/x-python",
   "name": "python",
   "nbconvert_exporter": "python",
   "pygments_lexer": "ipython3",
   "version": "3.10.6"
  }
 },
 "nbformat": 4,
 "nbformat_minor": 5
}
