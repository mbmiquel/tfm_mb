{
 "cells": [
  {
   "cell_type": "code",
   "execution_count": 1,
   "id": "9f25ca00-79ab-46fd-95b8-1c9e0b201443",
   "metadata": {},
   "outputs": [],
   "source": [
    "import pandas as pd\n",
    "import numpy as np\n",
    "import matplotlib.pyplot as plt"
   ]
  },
  {
   "cell_type": "code",
   "execution_count": 2,
   "id": "08f69fd1-330a-4696-8e03-188ea85ffd80",
   "metadata": {},
   "outputs": [
    {
     "name": "stderr",
     "output_type": "stream",
     "text": [
      "C:\\Users\\emebe\\AppData\\Local\\Temp\\ipykernel_9240\\1663228048.py:1: DtypeWarning: Columns (0,16,18) have mixed types. Specify dtype option on import or set low_memory=False.\n",
      "  df_original=pd.read_csv(\"data/DatosViviendas1.csv\", encoding='latin-1', on_bad_lines='skip', sep=';')\n"
     ]
    }
   ],
   "source": [
    "df_original=pd.read_csv(\"data/DatosViviendas1.csv\", encoding='latin-1', on_bad_lines='skip', sep=';')"
   ]
  },
  {
   "cell_type": "code",
   "execution_count": 3,
   "id": "aa55c09c-28e3-4e2f-b5e5-74287fc98808",
   "metadata": {},
   "outputs": [],
   "source": [
    "df = df_original.copy()"
   ]
  },
  {
   "cell_type": "code",
   "execution_count": 4,
   "id": "61377a09-de5d-41a8-a1ba-5a1a7a11fddf",
   "metadata": {},
   "outputs": [],
   "source": [
    "df = df[df[\"NCA\"]==\"Cataluña\"].reset_index(drop=True)"
   ]
  },
  {
   "cell_type": "code",
   "execution_count": 5,
   "id": "048fd045-396b-45b4-a596-661ecb989ff0",
   "metadata": {},
   "outputs": [
    {
     "name": "stderr",
     "output_type": "stream",
     "text": [
      "C:\\Users\\emebe\\AppData\\Local\\Temp\\ipykernel_9240\\1187895110.py:3: UserWarning: Parsing dates in %d/%m/%Y format when dayfirst=False (the default) was specified. Pass `dayfirst=True` or specify a format to silence this warning.\n",
      "  df['Fecha'] = pd.to_datetime(df['Fecha'])\n"
     ]
    },
    {
     "data": {
      "text/plain": [
       "(72537, 28)"
      ]
     },
     "execution_count": 5,
     "metadata": {},
     "output_type": "execute_result"
    }
   ],
   "source": [
    "df['Fecha'] = pd.to_datetime(df['Fecha'])\n",
    "\n",
    "# ordenar por id y fecha, manteniendo el mas reciente por ID\n",
    "df_sorted = df.sort_values(by=['ID', 'Fecha'], ascending=[True, False])\n",
    "df = df_sorted.drop_duplicates(subset='ID', keep='first').reset_index()\n",
    "df.shape"
   ]
  },
  {
   "cell_type": "code",
   "execution_count": 6,
   "id": "4f9afdd9-e680-411c-97f4-5eb088321a2d",
   "metadata": {},
   "outputs": [
    {
     "data": {
      "text/plain": [
       "'https://www.fotocasa.es/es/inmobiliaria-m-amparo-badia-vila/comprar/inmuebles/espana/todas-las-zonas/l?clientId=9202750511730'"
      ]
     },
     "execution_count": 6,
     "metadata": {},
     "output_type": "execute_result"
    }
   ],
   "source": [
    "df.loc[0][\"URL_Cliente\"]"
   ]
  },
  {
   "cell_type": "code",
   "execution_count": 7,
   "id": "49dc2baf-79b8-4d27-a46b-ac55903c6e51",
   "metadata": {},
   "outputs": [
    {
     "data": {
      "text/plain": [
       "index                                                          60453\n",
       "Unnamed: 0                                                   2414107\n",
       "Fecha                                            2021-09-08 00:00:00\n",
       "ID                                                       116893306.0\n",
       "URL                https://www.fotocasa.es/es/comprar/vivienda/vi...\n",
       "ID_Cliente                                               9,20275E+12\n",
       "URL_Cliente        https://www.fotocasa.es/es/inmobiliaria-m-ampa...\n",
       "Inmueble                                                        Flat\n",
       "Caracteristicas                                            Apartment\n",
       "Habitaciones                                                     1.0\n",
       "Aseos                                                            1.0\n",
       "Terraza                                                          0.0\n",
       "Piscina                                                          0.0\n",
       "Garaje                                                           1.0\n",
       "Precio                                                      139000.0\n",
       "Metros                                                          40.0\n",
       "Relacion                                                        3475\n",
       "CodigoPostal                                                   25530\n",
       "Latitud                                                    4.270.474\n",
       "Longitud                                                   0.7938545\n",
       "Precision                                                        0.0\n",
       "CMUN                                                           243.0\n",
       "CPRO                                                            25.0\n",
       "CCA                                                              9.0\n",
       "CUDIS                                                      2524301.0\n",
       "NPRO                                                          Lleida\n",
       "NCA                                                         Cataluña\n",
       "NMUN                                                Vielha e Mijaran\n",
       "Name: 0, dtype: object"
      ]
     },
     "execution_count": 7,
     "metadata": {},
     "output_type": "execute_result"
    }
   ],
   "source": [
    "df.loc[0].T"
   ]
  },
  {
   "cell_type": "code",
   "execution_count": 8,
   "id": "2aba9b52-61e9-42cb-8130-a2b1dbaaa335",
   "metadata": {},
   "outputs": [
    {
     "data": {
      "text/plain": [
       "Caracteristicas\n",
       "Flat                     44027\n",
       "House_Chalet             12002\n",
       "Apartment                 4572\n",
       "SemidetachedHouse         4003\n",
       "Attic                     2285\n",
       "Duplex                    1961\n",
       "CountryHouse              1715\n",
       "GroundFloorWithGarden     1247\n",
       "SemiDetached               276\n",
       "Study                      274\n",
       "Loft                       158\n",
       "Name: count, dtype: int64"
      ]
     },
     "execution_count": 8,
     "metadata": {},
     "output_type": "execute_result"
    }
   ],
   "source": [
    "df[\"Caracteristicas\"].value_counts()"
   ]
  },
  {
   "cell_type": "code",
   "execution_count": 9,
   "id": "1066dea4-ddd7-467d-b485-3780270bb8f3",
   "metadata": {},
   "outputs": [],
   "source": [
    "#Limpiar fechas\n",
    "df['Fecha']=pd.to_datetime(df['Fecha'], format='%d/%m/%Y', errors='coerce')\n",
    "df = df.dropna(subset=['Fecha'])"
   ]
  },
  {
   "cell_type": "code",
   "execution_count": 10,
   "id": "3e5b84dd-c6fb-44c0-866b-881df4748763",
   "metadata": {},
   "outputs": [],
   "source": [
    "#Fillna caracteristicas\n",
    "df[\"Caracteristicas\"] = df[\"Caracteristicas\"].fillna(\"Unknown\")"
   ]
  },
  {
   "cell_type": "code",
   "execution_count": 11,
   "id": "9877b073-8fc5-4935-993e-8d5fba3fea39",
   "metadata": {},
   "outputs": [],
   "source": [
    "df['ID'] = df[\"ID\"].astype(int).astype(str)"
   ]
  },
  {
   "cell_type": "code",
   "execution_count": 12,
   "id": "57ad0bb0-1cce-41aa-8560-0d5f8184a59d",
   "metadata": {},
   "outputs": [],
   "source": [
    "#Eliminar columnas\n",
    "df.drop([\"Unnamed: 0\", \"ID_Cliente\", \"URL_Cliente\", \"Inmueble\", \"URL\", \"Relacion\",\n",
    "        \"CMUN\", \"CPRO\", \"CCA\", \"index\", \"Fecha\", \"Precision\"], axis=1, inplace=True)"
   ]
  },
  {
   "cell_type": "code",
   "execution_count": 13,
   "id": "0802f310-8a8e-4fc4-967e-cb0f265b56a6",
   "metadata": {},
   "outputs": [],
   "source": [
    "#Eliminar muestras con Habitaciones nulas\n",
    "df = df.dropna(subset=['Habitaciones'])\n",
    "df['Habitaciones'] = df[\"Habitaciones\"].astype(int)"
   ]
  },
  {
   "cell_type": "code",
   "execution_count": 14,
   "id": "bfbefb56-d84b-4d8b-b38b-f628250cefda",
   "metadata": {},
   "outputs": [],
   "source": [
    "#Si Aseos es nulo, forzamos valor 1\n",
    "df.loc[df[\"Aseos\"].isnull(), 'Aseos'] = 1\n",
    "df['Aseos'] = df[\"Aseos\"].astype(int)"
   ]
  },
  {
   "cell_type": "code",
   "execution_count": 15,
   "id": "38a8286b-d3b4-4e78-bf71-d929cce1dd10",
   "metadata": {},
   "outputs": [],
   "source": [
    "df[\"Terraza\"] = df[\"Terraza\"].astype(int)\n",
    "df[\"Piscina\"] = df[\"Piscina\"].astype(int)\n",
    "df[\"Garaje\"] = df[\"Garaje\"].astype(int)"
   ]
  },
  {
   "cell_type": "code",
   "execution_count": 16,
   "id": "7a6f9258-c801-4c6a-be2e-7491155dfd4a",
   "metadata": {},
   "outputs": [],
   "source": [
    "# Eliminar muestras sin Precio\n",
    "df = df.dropna(subset=['Precio'])\n",
    "df['Precio'] = df[\"Precio\"].astype(int)"
   ]
  },
  {
   "cell_type": "code",
   "execution_count": 17,
   "id": "9a8fd3e2-2b98-4ea0-8de1-9285f99e5c6c",
   "metadata": {},
   "outputs": [],
   "source": [
    "# Eliminar muestras sin Metros\n",
    "df = df.dropna(subset=['Metros'])\n",
    "df[\"Metros\"]=df[\"Metros\"].astype(int)"
   ]
  },
  {
   "cell_type": "code",
   "execution_count": 18,
   "id": "1f9e1dac-7abe-4441-834c-1a4f36dd9faa",
   "metadata": {},
   "outputs": [],
   "source": [
    "#Arreglar latitud / longitud\n",
    "def fix_coordenates(code, longitud=False):\n",
    "    code2 = str(code).replace(\".\",\"\")\n",
    "    # Si el primer carácter no es '0' y la longitud es menor que 7\n",
    "    if code2.replace(\"-\",\"\")[0] != '0':\n",
    "        if code[0]==\"-\":\n",
    "            return int(code2.ljust(8, '0'))/1000000\n",
    "        else:\n",
    "            if longitud:\n",
    "                return int(code2.ljust(7, '0'))/1000000\n",
    "            else:\n",
    "                return int(code2.ljust(7, '0'))/100000\n",
    "    else:\n",
    "        return code\n",
    "\n",
    "# Aplicar la función a la columna\n",
    "df['Latitud'] = df['Latitud'].apply(fix_coordenates)\n",
    "df['Longitud'] = df['Longitud'].apply(fix_coordenates, longitud=True)"
   ]
  },
  {
   "cell_type": "code",
   "execution_count": 19,
   "id": "0906f2dd-364b-48b4-b1e3-2155c3e4d8f6",
   "metadata": {},
   "outputs": [],
   "source": [
    "#CUDIS\n",
    "df = df.dropna(subset=['CUDIS'])\n",
    "df[\"CUDIS\"] = df[\"CUDIS\"].astype(int).astype(str)\n",
    "df['CUDIS'] = df['CUDIS'].str.zfill(7)"
   ]
  },
  {
   "cell_type": "code",
   "execution_count": 20,
   "id": "92fd24ec-ef03-49dc-9152-5615a9b0b42a",
   "metadata": {},
   "outputs": [],
   "source": [
    "# Para las muestras sin codigo postal tenemos un mapping\n",
    "cp_dict = {\n",
    "    'Torrevieja': '03180',\n",
    "    'Marbella': '29600',\n",
    "    'Cambrils': '43850',\n",
    "    'Dénia': '03700',\n",
    "    'Cubelles': '08880',\n",
    "    'Mercadal, Es': '07740',\n",
    "    \"Ametlla de Mar, L'\": '43860',\n",
    "    'Palamós': '17230',\n",
    "    'Tarragona': '43001',\n",
    "    'Benalmádena': '29631',\n",
    "    'Ayamonte': '21400',\n",
    "    'Badalona': '08911',\n",
    "    \"Castell-Platja d'Aro\": '17250',\n",
    "    'Tiana': '08391',\n",
    "    'Vendrell, El': '43700',\n",
    "    'Torredembarra': '43830',\n",
    "    'Cunit': '43881',\n",
    "    'Madrid': '28001',\n",
    "    'Alicante/Alacant': '03001'\n",
    "}\n",
    "\n",
    "# Asignar los códigos postales usando map\n",
    "df.loc[df['CodigoPostal'].isnull(), 'CodigoPostal'] = df['NMUN'].map(cp_dict)\n",
    "\n",
    "# Eliminar los nulos\n",
    "df = df.dropna(subset=['CodigoPostal'])"
   ]
  },
  {
   "cell_type": "code",
   "execution_count": 21,
   "id": "99ad17cf-b55a-4477-8d8c-bc72a4dfac28",
   "metadata": {},
   "outputs": [],
   "source": [
    "codigo_postal_nonum = pd.to_numeric(df['CodigoPostal'], errors='coerce').isna()\n",
    "cp_dict = {\n",
    "    'Ripoll': '17500',\n",
    "    'Covaleda': '42180',\n",
    "    'Graus': '22430',\n",
    "    'Vilanova de Meià': '25691',\n",
    "    'Mojácar': '04638',\n",
    "    'Massanassa': '46470'\n",
    "}\n",
    "\n",
    "# Asignar los códigos postales solo a las filas donde CP es nulo\n",
    "df.loc[codigo_postal_nonum, 'CodigoPostal'] = df['NMUN'].map(cp_dict)"
   ]
  },
  {
   "cell_type": "code",
   "execution_count": 22,
   "id": "c2fe71d2-2c54-4d9f-8fea-2032813c3b6d",
   "metadata": {},
   "outputs": [],
   "source": [
    "# Formato codigo postal\n",
    "df.loc[:,\"CodigoPostal\"] = df[\"CodigoPostal\"].astype(int).astype(str)\n",
    "df['CodigoPostal'] = df['CodigoPostal'].str.zfill(5)"
   ]
  },
  {
   "cell_type": "code",
   "execution_count": 23,
   "id": "32806d23-af34-4a75-a3d5-8355b39e5ddc",
   "metadata": {},
   "outputs": [],
   "source": [
    "most_common_mun = df.groupby('CodigoPostal')['NMUN'].agg(lambda x: x.mode()[0] if not x.mode().empty else np.nan)\n",
    "most_common_pro = df.groupby('CodigoPostal')['NPRO'].agg(lambda x: x.mode()[0] if not x.mode().empty else np.nan)\n",
    "most_common_cca = df.groupby('CodigoPostal')['NCA'].agg(lambda x: x.mode()[0] if not x.mode().empty else np.nan)\n",
    "most_common_cudis = df.groupby('CodigoPostal')['CUDIS'].agg(lambda x: x.mode()[0] if not x.mode().empty else np.nan)\n",
    "\n",
    "def replace_with_most_common(row, most_common):\n",
    "    return most_common[row['CodigoPostal']]\n",
    "    \n",
    "df['NMUN2'] = df.apply(replace_with_most_common, most_common = most_common_mun, axis=1)\n",
    "df['NPRO2'] = df.apply(replace_with_most_common, most_common = most_common_pro, axis=1)\n",
    "df['NCA2'] = df.apply(replace_with_most_common, most_common = most_common_cca, axis=1)\n",
    "df['CUDIS2'] = df.apply(replace_with_most_common, most_common = most_common_cudis, axis=1)"
   ]
  },
  {
   "cell_type": "code",
   "execution_count": 24,
   "id": "0ed44934-9867-4162-82b3-4f0be6501434",
   "metadata": {},
   "outputs": [],
   "source": [
    "df = df[(df[\"CUDIS\"].str[:-2]==df[\"CUDIS2\"].str[:-2]) | (df[\"NMUN\"]==df[\"NMUN2\"]) | (df[\"NPRO\"]==df[\"NPRO2\"]) | (df[\"NCA\"]==df[\"NCA2\"])]\n",
    "df = df.dropna(subset=['NMUN', 'NCA', 'NPRO', 'CUDIS'])"
   ]
  },
  {
   "cell_type": "code",
   "execution_count": 25,
   "id": "fa52e4f3-551e-44f4-b505-37621a12befc",
   "metadata": {},
   "outputs": [],
   "source": [
    "df.drop([\"CUDIS2\", \"NMUN2\", \"NPRO2\", \"NCA2\"], axis=1, inplace=True)"
   ]
  },
  {
   "cell_type": "code",
   "execution_count": 26,
   "id": "75ca61b3-c6c4-43d5-a3b3-7ffc30f6ae9b",
   "metadata": {},
   "outputs": [],
   "source": [
    "#Algunos codigos postales no hacen match con la provincia que pone que es\n",
    "provincias_codigos = {\n",
    "    '02': 'Albacete', '03': 'Alicante', '04': 'Almería', '01': 'Araba/Álava', '33': 'Asturias', \n",
    "    '06': 'Badajoz', '07': 'Balears, Illes', '08': 'Barcelona', '48': 'Bizkaia', '09': 'Burgos', \n",
    "    '39': 'Cantabria', '12': 'Castellón/Castelló', '51': 'Ceuta', '13': 'Ciudad Real', \n",
    "    '15': 'Coruña, A', '16': 'Cuenca', '10': 'Cáceres', '11': 'Cádiz', '14': 'Córdoba', \n",
    "    '20': 'Gipuzkoa', '17': 'Girona', '18': 'Granada', '19': 'Guadalajara', '21': 'Huelva', \n",
    "    '22': 'Huesca', '23': 'Jaén', '24': 'León', '25': 'Lleida', '27': 'Lugo', '28': 'Madrid', \n",
    "    '52': 'Melilla', '30': 'Murcia', '29': 'Málaga', '31': 'Navarra', '32': 'Ourense', \n",
    "    '34': 'Palencia', '35': 'Palmas, Las', '36': 'Pontevedra', '26': 'Rioja, La', \n",
    "    '37': 'Salamanca', '38': 'Santa Cruz de Tenerife', '40': 'Segovia', '41': 'Sevilla', \n",
    "    '42': 'Soria', '43': 'Tarragona', '44': 'Teruel', '45': 'Toledo', '46': 'Valencia/Valéncia', \n",
    "    '47': 'Valladolid', '49': 'Zamora', '50': 'Zaragoza', '05': 'Ávila'\n",
    "}"
   ]
  },
  {
   "cell_type": "code",
   "execution_count": 27,
   "id": "fc498563-43d2-4047-a952-be41db87effc",
   "metadata": {},
   "outputs": [],
   "source": [
    "new_pro = []\n",
    "for x in df[\"CodigoPostal\"].str[:2]:\n",
    "    new_pro.append(provincias_codigos[x])\n",
    "df[\"N_NPRO\"]=new_pro"
   ]
  },
  {
   "cell_type": "code",
   "execution_count": 28,
   "id": "ac59e6f6-b837-46fb-9220-0b2481160eff",
   "metadata": {},
   "outputs": [],
   "source": [
    "#Despues de comparar con las coordenadas, podemos determinar que el codigo postal es incorrecto\n",
    "df = df[df[\"N_NPRO\"]==df[\"NPRO\"]]\n",
    "df.drop([\"N_NPRO\"],inplace=True, axis=1)"
   ]
  },
  {
   "cell_type": "code",
   "execution_count": 29,
   "id": "3e16bcb8-355a-4a94-ad64-d728da7400b9",
   "metadata": {},
   "outputs": [
    {
     "data": {
      "text/plain": [
       "0        2524301\n",
       "1        4312303\n",
       "2        4313602\n",
       "3        4309201\n",
       "4        4314701\n",
       "          ...   \n",
       "72532    0811302\n",
       "72533    0814101\n",
       "72534    4314806\n",
       "72535    0818701\n",
       "72536    0808901\n",
       "Name: CUDIS, Length: 69408, dtype: object"
      ]
     },
     "execution_count": 29,
     "metadata": {},
     "output_type": "execute_result"
    }
   ],
   "source": [
    "df[\"CUDIS\"]"
   ]
  },
  {
   "cell_type": "code",
   "execution_count": 30,
   "id": "2a0fc09e-c6b9-4aec-bf73-e4f126c7e60a",
   "metadata": {},
   "outputs": [],
   "source": []
  },
  {
   "cell_type": "code",
   "execution_count": 31,
   "id": "e6bb9cf9-5966-42f4-9143-7a751b621ad5",
   "metadata": {},
   "outputs": [],
   "source": [
    "#Precio del metro cuadrado\n",
    "df[\"PrecioM2\"]=df[\"Precio\"]/df[\"Metros\"]"
   ]
  },
  {
   "cell_type": "code",
   "execution_count": 32,
   "id": "9b9c7334-6c51-42aa-bfe2-5c09c41fb2fb",
   "metadata": {},
   "outputs": [],
   "source": [
    "df = df[df['Caracteristicas'] != 'Unknown']\n",
    "\n",
    "# Mapping de caracteristicas\n",
    "df['Caracteristicas'] = df['Caracteristicas'].replace({\n",
    "    'Flat': 'Apartment',\n",
    "    'Loft': 'Apartment',\n",
    "    'Study': 'Apartment',\n",
    "    'GroundFloorWithGarden': 'Apartment',\n",
    "    'Attic': 'Apartment',\n",
    "    'Duplex': 'Apartment',\n",
    "    'Apartment': 'Apartment',\n",
    "    'House_Chalet': 'House',\n",
    "    'SemidetachedHouse': 'House',\n",
    "    'SemiDetached': 'House'\n",
    "})"
   ]
  },
  {
   "cell_type": "code",
   "execution_count": 33,
   "id": "9472fb24-8475-45d7-93a1-c726030ccdbc",
   "metadata": {},
   "outputs": [],
   "source": [
    "df.to_csv(\"output/clean_dataset.csv\", index=False)"
   ]
  },
  {
   "cell_type": "code",
   "execution_count": 34,
   "id": "9746feb1-2b27-47bc-9073-f3f90dcaecab",
   "metadata": {},
   "outputs": [
    {
     "data": {
      "text/plain": [
       "(69394, 17)"
      ]
     },
     "execution_count": 34,
     "metadata": {},
     "output_type": "execute_result"
    }
   ],
   "source": [
    "df.shape"
   ]
  },
  {
   "cell_type": "code",
   "execution_count": 35,
   "id": "965f65de-888a-449c-b645-c319a8e6a5e1",
   "metadata": {},
   "outputs": [
    {
     "data": {
      "text/plain": [
       "(954157, 27)"
      ]
     },
     "execution_count": 35,
     "metadata": {},
     "output_type": "execute_result"
    }
   ],
   "source": [
    "df_original.shape"
   ]
  },
  {
   "cell_type": "code",
   "execution_count": 36,
   "id": "a717d0e3-d8a5-4986-8dc6-717fbebb37d9",
   "metadata": {},
   "outputs": [
    {
     "data": {
      "text/plain": [
       "Index(['ID', 'Caracteristicas', 'Habitaciones', 'Aseos', 'Terraza', 'Piscina',\n",
       "       'Garaje', 'Precio', 'Metros', 'CodigoPostal', 'Latitud', 'Longitud',\n",
       "       'CUDIS', 'NPRO', 'NCA', 'NMUN', 'PrecioM2'],\n",
       "      dtype='object')"
      ]
     },
     "execution_count": 36,
     "metadata": {},
     "output_type": "execute_result"
    }
   ],
   "source": [
    "df.columns"
   ]
  },
  {
   "cell_type": "code",
   "execution_count": null,
   "id": "1633d806-ee05-4a0b-95c6-1f7664989590",
   "metadata": {},
   "outputs": [],
   "source": []
  }
 ],
 "metadata": {
  "kernelspec": {
   "display_name": "Python 3 (ipykernel)",
   "language": "python",
   "name": "python3"
  },
  "language_info": {
   "codemirror_mode": {
    "name": "ipython",
    "version": 3
   },
   "file_extension": ".py",
   "mimetype": "text/x-python",
   "name": "python",
   "nbconvert_exporter": "python",
   "pygments_lexer": "ipython3",
   "version": "3.10.6"
  }
 },
 "nbformat": 4,
 "nbformat_minor": 5
}
