{
 "cells": [
  {
   "cell_type": "code",
   "execution_count": 13,
   "id": "0d9668c8-ae26-4002-9377-0b15ebf4bf06",
   "metadata": {},
   "outputs": [],
   "source": [
    "import pandas as pd\n",
    "from sklearn.preprocessing import StandardScaler, LabelEncoder, OneHotEncoder\n",
    "import numpy as np\n",
    "from read_data import read_enhanced_microscore_dataset\n",
    "from plots import first_plot, second_plot, third_plot, forth_plot, plot_performance, fith_plot\n",
    "from sklearn.model_selection import KFold\n",
    "from xgboost import XGBRegressor\n",
    "from sklearn.metrics import mean_absolute_error, mean_squared_error, mean_absolute_percentage_error\n",
    "from sklearn.preprocessing import StandardScaler\n",
    "from sklearn.model_selection import GridSearchCV\n",
    "from sklearn.metrics import make_scorer\n",
    "from sklearn.model_selection import train_test_split"
   ]
  },
  {
   "cell_type": "code",
   "execution_count": 14,
   "id": "d1aadfdd-3bc3-4aca-b8b7-a386ba3597b5",
   "metadata": {},
   "outputs": [],
   "source": [
    "df = read_enhanced_microscore_dataset()\n"
   ]
  },
  {
   "cell_type": "code",
   "execution_count": 15,
   "id": "ae6ce7c7-3fc6-422f-abd8-2dccb48dda37",
   "metadata": {},
   "outputs": [],
   "source": [
    "df_base = df[[\n",
    "    \"Habitaciones\",\n",
    "    \"Aseos\",\n",
    "    \"Terraza\",\n",
    "    \"Piscina\",\n",
    "    \"Garaje\",\n",
    "    \"Precio\",\n",
    "    \"Metros\",\n",
    "    # \"CodigoPostal\",\n",
    "    \"Latitud\",\n",
    "    \"Longitud\",\n",
    "    'Caracteristicas'\n",
    "]]"
   ]
  },
  {
   "cell_type": "code",
   "execution_count": 16,
   "id": "1491a68e-d062-430c-86ca-ddee0ea7fd0a",
   "metadata": {},
   "outputs": [],
   "source": [
    "df_microscore = df[[\n",
    "    \"Habitaciones\",\n",
    "    \"Aseos\",\n",
    "    \"Terraza\",\n",
    "    \"Piscina\",\n",
    "    \"Garaje\",\n",
    "    \"Precio\",\n",
    "    \"Metros\",\n",
    "    # \"CodigoPostal\",\n",
    "    \"Latitud\",\n",
    "    \"Longitud\",\n",
    "    \"RentaBrutaHogar\",\n",
    "    \"RentaBrutaPersona\",\n",
    "    \"poblacion_2023\",\n",
    "    \"%_servicios\",\n",
    "    \"densidad_inm_m2\",\n",
    "    \"%_agricultura\",\n",
    "    \"%_industria\",\n",
    "    \"%_construccion\",\n",
    "    'Caracteristicas',\n",
    "    'University_Distance',\n",
    "    'School_Distance', 'Kindergarten_Distance', 'City Center_Distance',\n",
    "       'Supermarket_Distance', 'Bakery_Distance', 'Hospital_Distance',\n",
    "       'Pharmacy_Distance', 'Restaurant_Distance', 'Café_Distance',\n",
    "       'Park_Distance', 'Gym_Distance', 'Movie Theater_Distance',\n",
    "       'Theater_Distance', 'Shopping Mall_Distance', 'Bus Stop_Distance',\n",
    "       'Metro Station_Distance', 'Score'\n",
    "]]"
   ]
  },
  {
   "cell_type": "code",
   "execution_count": 17,
   "id": "bf4c391a-b6ac-401a-b468-43743c7ff969",
   "metadata": {},
   "outputs": [],
   "source": [
    "def prepare_data(df):\n",
    "    categorical_cols = ['Caracteristicas']\n",
    "    df = pd.get_dummies(df, columns=categorical_cols)\n",
    "    return df"
   ]
  },
  {
   "cell_type": "code",
   "execution_count": 18,
   "id": "1e4e5eda-adad-47aa-b73f-90a252e01505",
   "metadata": {},
   "outputs": [],
   "source": [
    "df_base =prepare_data(df_base)\n",
    "df_microscore =prepare_data(df_microscore)"
   ]
  },
  {
   "cell_type": "code",
   "execution_count": 19,
   "id": "891245d7-7ddb-4b12-9bee-48ebd5448d3f",
   "metadata": {},
   "outputs": [],
   "source": [
    "def xgboost_grid(df):\n",
    "    X = df.drop(columns=['Precio'])\n",
    "    y = df['Precio']\n",
    "    X_train, X_test, y_train, y_test = train_test_split(X, y, test_size=0.2, random_state=56)\n",
    "    \n",
    "    # XGBoost Regressor\n",
    "    xgb_model = XGBRegressor(random_state=42)\n",
    "    \n",
    "    # GridSearchCV parametros\n",
    "    param_grid = {\n",
    "        'n_estimators': [50, 100, 200],\n",
    "        'learning_rate': [0.01, 0.1, 0.2],\n",
    "        'max_depth': [3, 6, 9],\n",
    "        'subsample': [0.6, 0.8, 1.0],\n",
    "        'colsample_bytree': [0.6, 0.8, 1.0]\n",
    "    }\n",
    "    \n",
    "    scorer = make_scorer(mean_absolute_error, greater_is_better=False)\n",
    "    \n",
    "    # GridSearchCV\n",
    "    grid_search = GridSearchCV(\n",
    "        estimator=xgb_model,\n",
    "        param_grid=param_grid,\n",
    "        scoring=scorer,\n",
    "        cv=2,  # 3-fold cross-validation\n",
    "        verbose=1,\n",
    "        n_jobs=-1\n",
    "    )\n",
    "    \n",
    "    grid_search.fit(X_train, y_train)\n",
    "    \n",
    "    best_params = grid_search.best_params_\n",
    "    best_score = -grid_search.best_score_  \n",
    "    \n",
    "    print(best_params) \n",
    "    print(best_score)"
   ]
  },
  {
   "cell_type": "code",
   "execution_count": 20,
   "id": "f9c0ad4f-e3d7-40c6-8409-94c773f78521",
   "metadata": {},
   "outputs": [
    {
     "name": "stdout",
     "output_type": "stream",
     "text": [
      "Fitting 2 folds for each of 243 candidates, totalling 486 fits\n"
     ]
    },
    {
     "name": "stderr",
     "output_type": "stream",
     "text": [
      "\n",
      "KeyboardInterrupt\n",
      "\n"
     ]
    }
   ],
   "source": [
    "xgboost_grid(df_microscore)"
   ]
  },
  {
   "cell_type": "code",
   "execution_count": 21,
   "id": "7731be47-f4b2-4b03-b52c-2de7c94e9dc9",
   "metadata": {},
   "outputs": [],
   "source": [
    "def xgboost_kfold(df, params):\n",
    "    X = df.drop(columns=[\"Precio\"])  \n",
    "    y = df[\"Precio\"]  \n",
    "    \n",
    "    kf = KFold(n_splits=5, shuffle=True, random_state=56)\n",
    "    \n",
    "    mae_list = []\n",
    "    rmse_list = []\n",
    "    mape_list = []\n",
    "    \n",
    "    # 5-fold cross validation\n",
    "    for train_index, test_index in kf.split(X):\n",
    "        X_train, X_test = X.iloc[train_index], X.iloc[test_index]\n",
    "        y_train, y_test = y.iloc[train_index], y.iloc[test_index]\n",
    "        \n",
    "        # Escalado\n",
    "        scaler = StandardScaler()\n",
    "        X_train_scaled = scaler.fit_transform(X_train)\n",
    "        X_test_scaled = scaler.transform(X_test)\n",
    "        \n",
    "        # Entrenamiento XGBoost model\n",
    "        xgb_model = XGBRegressor(**params, random_state=56)\n",
    "        xgb_model.fit(X_train_scaled, y_train, \n",
    "                      eval_set=[(X_test_scaled, y_test)], \n",
    "                      verbose=False)\n",
    "        \n",
    "        # Prediccion\n",
    "        y_pred = xgb_model.predict(X_test_scaled)\n",
    "        \n",
    "        # Calculo metricas\n",
    "        mae = mean_absolute_error(y_test, y_pred)\n",
    "        rmse = np.sqrt(mean_squared_error(y_test, y_pred))\n",
    "        mape = mean_absolute_percentage_error(y_test, y_pred)\n",
    "        \n",
    "        mae_list.append(mae)\n",
    "        rmse_list.append(rmse)\n",
    "        mape_list.append(mape)\n",
    "        \n",
    "        print(f\"Fold MAE: {mae:.2f}, RMSE: {rmse:.2f}, MAPE: {mape:.2%}\")\n",
    "    \n",
    "    print(\"\\n--- Metricas Cross-Validation ---\")\n",
    "    print(f\"Average MAE: {np.mean(mae_list):.2f}\")\n",
    "    print(f\"Average RMSE: {np.mean(rmse_list):.2f}\")\n",
    "    print(f\"Average MAPE: {np.mean(mape_list):.2%}\")\n",
    "    \n",
    "    X_scaled = scaler.fit_transform(X)\n",
    "    xgb_model = XGBRegressor(**params, random_state=56)\n",
    "    xgb_model.fit(X_scaled, y)\n",
    "    \n",
    "    return xgb_model, X_scaled, y_test, y_pred\n"
   ]
  },
  {
   "cell_type": "code",
   "execution_count": 22,
   "id": "c010e6ec-6862-4c7d-a91b-cdfd92c82a54",
   "metadata": {},
   "outputs": [
    {
     "name": "stdout",
     "output_type": "stream",
     "text": [
      "Fold MAE: 57401.79, RMSE: 137136.89, MAPE: 26.95%\n",
      "Fold MAE: 56733.66, RMSE: 129971.36, MAPE: 26.42%\n",
      "Fold MAE: 58168.26, RMSE: 146377.77, MAPE: 26.80%\n",
      "Fold MAE: 55948.09, RMSE: 128582.75, MAPE: 25.99%\n",
      "Fold MAE: 56780.03, RMSE: 130850.26, MAPE: 26.67%\n",
      "\n",
      "--- Cross-Validation Metrics ---\n",
      "Average MAE: 57006.37\n",
      "Average RMSE: 134583.81\n",
      "Average MAPE: 26.57%\n"
     ]
    }
   ],
   "source": [
    "# Mejores parametros\n",
    "params = {\n",
    "            \"n_estimators\": 200,\n",
    "            \"learning_rate\": 0.1,\n",
    "            \"max_depth\": 9,\n",
    "            \"subsample\": 1,\n",
    "            \"colsample_bytree\": 0.6\n",
    "        }\n",
    "\n",
    "final_model, X_scaled, y_test_base, y_pred_base = xgboost_kfold(df_base, params)"
   ]
  },
  {
   "cell_type": "code",
   "execution_count": 23,
   "id": "ced74dec-347e-44e5-aa3d-6a5a9142a445",
   "metadata": {},
   "outputs": [
    {
     "name": "stdout",
     "output_type": "stream",
     "text": [
      "Fold MAE: 53775.23, RMSE: 132915.68, MAPE: 24.65%\n",
      "Fold MAE: 52572.41, RMSE: 124404.84, MAPE: 24.33%\n",
      "Fold MAE: 53763.07, RMSE: 144242.94, MAPE: 24.66%\n",
      "Fold MAE: 51436.82, RMSE: 118154.24, MAPE: 23.96%\n",
      "Fold MAE: 51948.98, RMSE: 118665.56, MAPE: 24.50%\n",
      "\n",
      "--- Cross-Validation Metrics ---\n",
      "Average MAE: 52699.30\n",
      "Average RMSE: 127676.65\n",
      "Average MAPE: 24.42%\n"
     ]
    }
   ],
   "source": [
    "# Mejores parametros\n",
    "params = {\n",
    "    \"n_estimators\": 200,\n",
    "    \"learning_rate\": 0.1,\n",
    "    \"max_depth\": 9,\n",
    "    \"subsample\": 1,\n",
    "    \"colsample_bytree\": 0.6\n",
    "}\n",
    "\n",
    "final_model, X_scaled, y_test_micro, y_pred_micro = xgboost_kfold(df_microscore, params)"
   ]
  },
  {
   "cell_type": "code",
   "execution_count": 24,
   "id": "4441eb74-7fa1-4d3e-816e-62e97e856cba",
   "metadata": {},
   "outputs": [
    {
     "name": "stdout",
     "output_type": "stream",
     "text": [
      "                         Feature  Importance\n",
      "9              RentaBrutaPersona    0.148723\n",
      "1                          Aseos    0.130523\n",
      "34     Caracteristicas_Apartment    0.087228\n",
      "11                   %_servicios    0.073897\n",
      "12               densidad_inm_m2    0.073647\n",
      "3                        Piscina    0.063778\n",
      "5                         Metros    0.058961\n",
      "32        Metro Station_Distance    0.034925\n",
      "8                RentaBrutaHogar    0.034105\n",
      "13                 %_agricultura    0.025516\n",
      "7                       Longitud    0.021879\n",
      "10                poblacion_2023    0.020913\n",
      "6                        Latitud    0.020709\n",
      "0                   Habitaciones    0.017909\n",
      "16           University_Distance    0.012107\n",
      "14                   %_industria    0.011890\n",
      "30        Shopping Mall_Distance    0.011156\n",
      "15                %_construccion    0.010783\n",
      "19          City Center_Distance    0.010226\n",
      "28        Movie Theater_Distance    0.010044\n",
      "36         Caracteristicas_House    0.009988\n",
      "29              Theater_Distance    0.009753\n",
      "27                  Gym_Distance    0.009070\n",
      "33                         Score    0.008911\n",
      "4                         Garaje    0.008630\n",
      "22             Hospital_Distance    0.008368\n",
      "18         Kindergarten_Distance    0.007593\n",
      "2                        Terraza    0.007442\n",
      "35  Caracteristicas_CountryHouse    0.007327\n",
      "25                 Café_Distance    0.006399\n",
      "20          Supermarket_Distance    0.006337\n",
      "21               Bakery_Distance    0.006287\n",
      "17               School_Distance    0.005858\n",
      "24           Restaurant_Distance    0.005323\n",
      "26                 Park_Distance    0.005245\n",
      "23             Pharmacy_Distance    0.004526\n",
      "31             Bus Stop_Distance    0.004024\n"
     ]
    }
   ],
   "source": [
    "feature_importance = pd.DataFrame({\n",
    "    'Feature': df_microscore.drop(columns=[\"Precio\"]).columns,\n",
    "    'Importance': final_model.feature_importances_\n",
    "}).sort_values(by='Importance', ascending=False)\n",
    "\n",
    "print(feature_importance)"
   ]
  },
  {
   "cell_type": "code",
   "execution_count": 25,
   "id": "1282bc6e-8419-428d-96b1-80f4e4a60807",
   "metadata": {},
   "outputs": [
    {
     "name": "stderr",
     "output_type": "stream",
     "text": [
      "C:\\Users\\emebe\\Documents\\GitHub\\tfm_cleaned\\plots.py:156: FutureWarning: The default of observed=False is deprecated and will be changed to True in a future version of pandas. Pass observed=False to retain current behavior or observed=True to adopt the future default and silence this warning.\n",
      "  result_blue = df_plot_base.groupby(\"log_bin\")[\"%error\"].mean().reset_index()\n",
      "C:\\Users\\emebe\\Documents\\GitHub\\tfm_cleaned\\plots.py:163: FutureWarning: The default of observed=False is deprecated and will be changed to True in a future version of pandas. Pass observed=False to retain current behavior or observed=True to adopt the future default and silence this warning.\n",
      "  result_red = df_plot__micro.groupby(\"log_bin\")[\"%error\"].mean().reset_index()\n"
     ]
    },
    {
     "data": {
      "image/png": "[encoded data removed]",
      "text/plain": [
       "<Figure size 800x600 with 1 Axes>"
      ]
     },
     "metadata": {},
     "output_type": "display_data"
    }
   ],
   "source": [
    "fith_plot(y_test_base, y_pred_base, y_test_micro, y_pred_micro)"
   ]
  },
  {
   "cell_type": "code",
   "execution_count": null,
   "id": "1c128259-5dce-470e-9c3d-46a7100a30d4",
   "metadata": {},
   "outputs": [],
   "source": []
  }
 ],
 "metadata": {
  "kernelspec": {
   "display_name": "Python 3 (ipykernel)",
   "language": "python",
   "name": "python3"
  },
  "language_info": {
   "codemirror_mode": {
    "name": "ipython",
    "version": 3
   },
   "file_extension": ".py",
   "mimetype": "text/x-python",
   "name": "python",
   "nbconvert_exporter": "python",
   "pygments_lexer": "ipython3",
   "version": "3.10.6"
  }
 },
 "nbformat": 4,
 "nbformat_minor": 5
}
